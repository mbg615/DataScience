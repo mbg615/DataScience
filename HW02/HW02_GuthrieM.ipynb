{
 "cells": [
  {
   "cell_type": "markdown",
   "metadata": {},
   "source": [
    "# HW02\n",
    "### By: Maddox B. Guthrie"
   ]
  },
  {
   "cell_type": "markdown",
   "metadata": {},
   "source": [
    "## 3 - Import Libraries"
   ]
  },
  {
   "cell_type": "code",
   "execution_count": 2,
   "metadata": {},
   "outputs": [],
   "source": [
    "import numpy as np, pandas as pd, matplotlib.pyplot as plt, seaborn as sns\n",
    "plt.style.use('seaborn')"
   ]
  },
  {
   "cell_type": "markdown",
   "metadata": {},
   "source": [
    "## 4 - Import Data"
   ]
  },
  {
   "cell_type": "code",
   "execution_count": 7,
   "metadata": {},
   "outputs": [
    {
     "name": "stdout",
     "output_type": "stream",
     "text": [
      "<class 'pandas.core.frame.DataFrame'>\n",
      "Int64Index: 1390 entries, 1 to 1460\n",
      "Data columns (total 37 columns):\n",
      " #   Column                    Non-Null Count  Dtype  \n",
      "---  ------                    --------------  -----  \n",
      " 0   Dwelling Type             1390 non-null   object \n",
      " 1   Lot Frontage              1138 non-null   float64\n",
      " 2   Lot Area                  1390 non-null   int64  \n",
      " 3   Alley                     83 non-null     object \n",
      " 4   Land Contour              1390 non-null   object \n",
      " 5   Neighborhood              1390 non-null   object \n",
      " 6   Location Condition        1390 non-null   object \n",
      " 7   Overall Quality           1390 non-null   int64  \n",
      " 8   Overall Cond              1390 non-null   int64  \n",
      " 9   Year Built                1390 non-null   int64  \n",
      " 10  Masonry/Veneer Area       1382 non-null   float64\n",
      " 11  Basement Finished Area    1390 non-null   int64  \n",
      " 12  Basement Unfinished Area  1390 non-null   int64  \n",
      " 13  Basement Area             1390 non-null   int64  \n",
      " 14  1st Floor Area            1390 non-null   int64  \n",
      " 15  2nd Floor Area            1390 non-null   int64  \n",
      " 16  Living Area Above Grade   1390 non-null   int64  \n",
      " 17  Basement Full Baths       1390 non-null   int64  \n",
      " 18  Basement Half baths       1390 non-null   int64  \n",
      " 19  Full Baths Above Grade    1390 non-null   int64  \n",
      " 20  Half Baths Above Grade    1390 non-null   int64  \n",
      " 21  Bedrooms Above Grade      1390 non-null   int64  \n",
      " 22  Kitchens Above Grade      1390 non-null   int64  \n",
      " 23  Kitchen Qual              1390 non-null   object \n",
      " 24  Total Rooms Above Grade   1390 non-null   int64  \n",
      " 25  Fireplaces                1390 non-null   int64  \n",
      " 26  Garage Yr Built           1327 non-null   float64\n",
      " 27  Garage Finish             1390 non-null   object \n",
      " 28  Garage Cars               1390 non-null   int64  \n",
      " 29  Wood Deck Area            1390 non-null   int64  \n",
      " 30  Open Porch Area           1390 non-null   int64  \n",
      " 31  Enclosed Porch Area       1390 non-null   int64  \n",
      " 32  3 Season Porch Area       1390 non-null   int64  \n",
      " 33  Screen Porch Area         1390 non-null   int64  \n",
      " 34  Pool Area                 1390 non-null   int64  \n",
      " 35  Sale Condition            1390 non-null   object \n",
      " 36  Sale Price                1390 non-null   int64  \n",
      "dtypes: float64(3), int64(26), object(8)\n",
      "memory usage: 412.7+ KB\n"
     ]
    }
   ],
   "source": [
    "df_realestate = pd.read_csv('data/Real_Estate_Data_Week_2.csv', index_col = 0, header = 0)\n",
    "df_realestate.info()"
   ]
  },
  {
   "cell_type": "markdown",
   "metadata": {},
   "source": [
    "## 4a - Create a Copy of Data"
   ]
  },
  {
   "cell_type": "code",
   "execution_count": 8,
   "metadata": {},
   "outputs": [],
   "source": [
    "df_realestate_copy = df_realestate.copy()"
   ]
  },
  {
   "cell_type": "markdown",
   "metadata": {},
   "source": [
    "## 5 - Groupby Dataframes and Barplot"
   ]
  },
  {
   "cell_type": "code",
   "execution_count": 9,
   "metadata": {},
   "outputs": [],
   "source": [
    "df_realestate_copy.reset_index(inplace = True)\n",
    "df_result = df_realestate_copy.groupby()[].count()"
   ]
  }
 ],
 "metadata": {
  "kernelspec": {
   "display_name": "Python 3",
   "language": "python",
   "name": "python3"
  },
  "language_info": {
   "codemirror_mode": {
    "name": "ipython",
    "version": 3
   },
   "file_extension": ".py",
   "mimetype": "text/x-python",
   "name": "python",
   "nbconvert_exporter": "python",
   "pygments_lexer": "ipython3",
   "version": "3.8.5"
  }
 },
 "nbformat": 4,
 "nbformat_minor": 4
}
